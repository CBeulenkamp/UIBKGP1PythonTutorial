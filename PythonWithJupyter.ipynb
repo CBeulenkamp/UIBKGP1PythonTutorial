{
 "cells": [
  {
   "cell_type": "markdown",
   "metadata": {},
   "source": [
    "## Table of contents:\n",
    "* [Python basics](#basics)\n",
    "* [Data handling with NumPy](#numpy)\n",
    "* [Plotting with Matplotlib](#matplotlib)\n",
    "* [Physical constants and curve fitting with SciPy](#scipy)"
   ]
  },
  {
   "cell_type": "markdown",
   "metadata": {},
   "source": [
    "# Python basics <a class=\"anchor\" id=\"basics\"></a>\n",
    "\n",
    "Defining a variable is quite easy in Python. The data type is recognized implicitly."
   ]
  },
  {
   "cell_type": "code",
   "execution_count": 1,
   "metadata": {},
   "outputs": [
    {
     "name": "stdout",
     "output_type": "stream",
     "text": [
      "<class 'int'>\n",
      "<class 'float'>\n",
      "<class 'str'>\n",
      "<class 'complex'>\n",
      "<class 'list'>\n",
      "1 1.1 one point two (1+0.4j) [1.0, 0.5]\n",
      "<class 'str'>\n"
     ]
    }
   ],
   "source": [
    "a = 1                   # an integer value (int)\n",
    "b = 1.1                 # a floating point value (float)\n",
    "c = 'one point two'     # a string\n",
    "d = 1.0 + 0.4j          # a complex number, note the use of j instead of i\n",
    "e = [1.0, 0.5]          # a list consisting of floats\n",
    "\n",
    "print(type(a))\n",
    "print(type(b))\n",
    "print(type(c))\n",
    "print(type(d))\n",
    "print(type(e))\n",
    "print(a,b,c,d,e)\n",
    "\n",
    "# the variable name can be reused for a different data type without problems\n",
    "a = 'something different'\n",
    "print(type(a))"
   ]
  },
  {
   "cell_type": "markdown",
   "metadata": {},
   "source": [
    "You can define your own functions:"
   ]
  },
  {
   "cell_type": "code",
   "execution_count": 2,
   "metadata": {},
   "outputs": [
    {
     "name": "stdout",
     "output_type": "stream",
     "text": [
      "27.0\n"
     ]
    }
   ],
   "source": [
    "def func(x, a, b): #\n",
    "    \n",
    "    #any code to produce the output can go here\n",
    "    c = 1 * b\n",
    "    \n",
    "    return a * x + c\n",
    "\n",
    "print(func(10,2.4,3))"
   ]
  },
  {
   "cell_type": "code",
   "execution_count": 2,
   "metadata": {},
   "outputs": [
    {
     "name": "stdout",
     "output_type": "stream",
     "text": [
      "[2.4, 3]\n",
      "2.4 3\n",
      "27.0\n"
     ]
    }
   ],
   "source": [
    "# an alternative way to define the same function which looks a bit cleaner. Seperate the input into the variable x and the parameters p.\n",
    "def func(x,*p): #\n",
    "    a, b = p\n",
    "    \n",
    "    return a * x + b\n",
    "\n",
    "params = [2.4,3]\n",
    "print(params)\n",
    "print(*params)\n",
    "\n",
    "print(func(10,*params)) #the * is used to 'unpack' the params list."
   ]
  },
  {
   "cell_type": "markdown",
   "metadata": {},
   "source": [
    "You can also create for loops and if/else statements."
   ]
  },
  {
   "cell_type": "code",
   "execution_count": 3,
   "metadata": {},
   "outputs": [
    {
     "name": "stdout",
     "output_type": "stream",
     "text": [
      "-1\n",
      "-2\n",
      "-3\n",
      "-4\n",
      "5\n",
      "6\n",
      "7\n",
      "8\n",
      "9\n",
      "10\n"
     ]
    }
   ],
   "source": [
    "for x in [0,1,2,3,4,5,6,7,8,9]: # a loop over each of the elements in the list. \n",
    "    y = x+1\n",
    "    \n",
    "    if y > 4:\n",
    "        print(y)\n",
    "        \n",
    "    else: \n",
    "        print(-y)"
   ]
  },
  {
   "cell_type": "markdown",
   "metadata": {},
   "source": [
    "# NumPy  <a class=\"anchor\" id=\"numpy\"></a>"
   ]
  },
  {
   "cell_type": "markdown",
   "metadata": {},
   "source": [
    "NumPy is a library useful for handling, processing and analysing large datasets. Documentation can be found at https://numpy.org/doc/stable/index.html."
   ]
  },
  {
   "cell_type": "code",
   "execution_count": 5,
   "metadata": {},
   "outputs": [],
   "source": [
    "import numpy as np"
   ]
  },
  {
   "cell_type": "markdown",
   "metadata": {},
   "source": [
    "Some useful constants:"
   ]
  },
  {
   "cell_type": "code",
   "execution_count": 6,
   "metadata": {},
   "outputs": [
    {
     "name": "stdout",
     "output_type": "stream",
     "text": [
      "3.141592653589793\n",
      "2.718281828459045\n"
     ]
    }
   ],
   "source": [
    "print(np.pi)\n",
    "print(np.e)"
   ]
  },
  {
   "cell_type": "markdown",
   "metadata": {},
   "source": [
    "Numpy also has a number of common functions which could come in handy. A list can be found at https://numpy.org/doc/stable/reference/routines.math.html. Some examples:"
   ]
  },
  {
   "cell_type": "code",
   "execution_count": 7,
   "metadata": {},
   "outputs": [
    {
     "name": "stdout",
     "output_type": "stream",
     "text": [
      "2.718281828459045\n",
      "0.0\n",
      "0.8414709848078965\n",
      "0.5403023058681398\n",
      "1.5707963267948966\n",
      "0.0\n"
     ]
    }
   ],
   "source": [
    "print(np.exp(1))\n",
    "print(np.log(1))\n",
    "print(np.sin(1))\n",
    "print(np.cos(1))\n",
    "print(np.arcsin(1))\n",
    "print(np.arccos(1))"
   ]
  },
  {
   "cell_type": "markdown",
   "metadata": {},
   "source": [
    "#### Numpy arrays ####"
   ]
  },
  {
   "cell_type": "markdown",
   "metadata": {},
   "source": [
    "\n",
    "The inbuilt functions for creating arrays can be found at https://numpy.org/doc/stable/reference/routines.array-creation.html. Lets start by making a NumPy array from a standard Python list."
   ]
  },
  {
   "cell_type": "code",
   "execution_count": 8,
   "metadata": {},
   "outputs": [
    {
     "name": "stdout",
     "output_type": "stream",
     "text": [
      "[-10.  10.   1.]\n"
     ]
    }
   ],
   "source": [
    "x = np.array([-10.0,10.0,1.0])\n",
    "print(x)"
   ]
  },
  {
   "cell_type": "markdown",
   "metadata": {},
   "source": [
    "Often its quicker to call some function to fill the entries for you instead of filling them in by hand, for example if you want a list of equally spaced numbers."
   ]
  },
  {
   "cell_type": "code",
   "execution_count": 12,
   "metadata": {},
   "outputs": [
    {
     "name": "stdout",
     "output_type": "stream",
     "text": [
      "[-10.  -9.  -8.  -7.  -6.  -5.  -4.  -3.  -2.  -1.   0.   1.   2.   3.\n",
      "   4.   5.   6.   7.   8.   9.]\n",
      "-10.0\n",
      "-9.0\n",
      "-8.0\n",
      "-7.0\n",
      "-6.0\n",
      "-5.0\n",
      "-4.0\n",
      "-3.0\n",
      "-2.0\n",
      "-1.0\n",
      "0.0\n",
      "1.0\n",
      "2.0\n",
      "3.0\n",
      "4.0\n",
      "5.0\n",
      "6.0\n",
      "7.0\n",
      "8.0\n",
      "9.0\n"
     ]
    }
   ],
   "source": [
    "x = np.arange(-10.0,10.0,1.0) #Starting value, stopping value, stepsize. Note that the array ends *before* the stopping value\n",
    "print(x)\n",
    "\n",
    "# These kind of lists are useful when creating for loops:\n",
    "for i in x:\n",
    "    print(i)"
   ]
  },
  {
   "cell_type": "markdown",
   "metadata": {},
   "source": [
    "The arrays can have any finite dimensions, for example a 4x5 matrix. "
   ]
  },
  {
   "cell_type": "code",
   "execution_count": 14,
   "metadata": {
    "scrolled": true
   },
   "outputs": [
    {
     "name": "stdout",
     "output_type": "stream",
     "text": [
      "[[0. 0. 0. 0. 0.]\n",
      " [0. 0. 0. 0. 0.]\n",
      " [0. 0. 0. 0. 0.]\n",
      " [0. 0. 0. 0. 0.]]\n"
     ]
    }
   ],
   "source": [
    "y = np.zeros((4,5),dtype=np.float64) ## Creating a 4x5 array with zeros at all spots\n",
    "print(y)"
   ]
  },
  {
   "cell_type": "markdown",
   "metadata": {},
   "source": [
    "You can select a certain subarray to do something with it, here we change the second row:"
   ]
  },
  {
   "cell_type": "code",
   "execution_count": 15,
   "metadata": {},
   "outputs": [
    {
     "name": "stdout",
     "output_type": "stream",
     "text": [
      "[[0. 0. 0. 0. 0.]\n",
      " [0. 1. 2. 3. 4.]\n",
      " [0. 0. 0. 0. 0.]\n",
      " [0. 0. 0. 0. 0.]]\n"
     ]
    }
   ],
   "source": [
    "y[1,:] = np.arange(0,5,1) ## Setting a certain subarray to a different value\n",
    "print(y)"
   ]
  },
  {
   "cell_type": "markdown",
   "metadata": {},
   "source": [
    "Note that the second row is adressed by using the index 1. Counting starts at 0, so you can access the elements of a 1D 4 element array with the indices 0,1,2,3 . For the second index I used :, which is short-hand for \"all elements\". You can also take more specific subslices using startingvalue:endvalue:stepsize. If you do not give the actual values between the :'s, they will default to 0, max, and 1 respectively. Lets take only the 1st, 3rd and 5th column of y in two ways:"
   ]
  },
  {
   "cell_type": "code",
   "execution_count": 16,
   "metadata": {},
   "outputs": [
    {
     "name": "stdout",
     "output_type": "stream",
     "text": [
      "[[0. 0. 0.]\n",
      " [0. 2. 4.]\n",
      " [0. 0. 0.]\n",
      " [0. 0. 0.]]\n",
      "[[0. 0. 0.]\n",
      " [0. 2. 4.]\n",
      " [0. 0. 0.]\n",
      " [0. 0. 0.]]\n"
     ]
    }
   ],
   "source": [
    "print(y[:,0:5:2])\n",
    "print(y[:,::2])"
   ]
  },
  {
   "cell_type": "markdown",
   "metadata": {},
   "source": [
    "Operations with arrays are interpreted by NumPy according to what shape the inputs are. If x and y are arrays of the same shape, then x+y or x*y will perform the operation element-wise."
   ]
  },
  {
   "cell_type": "code",
   "execution_count": 17,
   "metadata": {},
   "outputs": [
    {
     "name": "stdout",
     "output_type": "stream",
     "text": [
      "[[0. 0. 0. 0. 0.]\n",
      " [0. 2. 4. 6. 8.]\n",
      " [0. 0. 0. 0. 0.]\n",
      " [0. 0. 0. 0. 0.]]\n"
     ]
    }
   ],
   "source": [
    "z = y + y\n",
    "print(z)"
   ]
  },
  {
   "cell_type": "code",
   "execution_count": 18,
   "metadata": {},
   "outputs": [
    {
     "name": "stdout",
     "output_type": "stream",
     "text": [
      "[[ 0.  0.  0.  0.  0.]\n",
      " [ 0.  2.  8. 18. 32.]\n",
      " [ 0.  0.  0.  0.  0.]\n",
      " [ 0.  0.  0.  0.  0.]]\n"
     ]
    }
   ],
   "source": [
    "print(z * y)"
   ]
  },
  {
   "cell_type": "markdown",
   "metadata": {},
   "source": [
    "If, however, one of the two is just a number, Numpy will apply the operation to the entire array:"
   ]
  },
  {
   "cell_type": "code",
   "execution_count": 19,
   "metadata": {},
   "outputs": [
    {
     "name": "stdout",
     "output_type": "stream",
     "text": [
      "[[1. 1. 1. 1. 1.]\n",
      " [1. 2. 3. 4. 5.]\n",
      " [1. 1. 1. 1. 1.]\n",
      " [1. 1. 1. 1. 1.]]\n"
     ]
    }
   ],
   "source": [
    "print(y + 1)"
   ]
  },
  {
   "cell_type": "markdown",
   "metadata": {},
   "source": [
    "Arrays have certain attributes, like size and data type. Getting the size of a (sub)array is quite useful for when you want to loop over the elements for example."
   ]
  },
  {
   "cell_type": "code",
   "execution_count": 21,
   "metadata": {},
   "outputs": [
    {
     "name": "stdout",
     "output_type": "stream",
     "text": [
      "2\n",
      "(4, 5)\n",
      "20\n",
      "float64\n",
      "[[0. 0. 0. 0. 0.]\n",
      " [0. 1. 2. 3. 4.]\n",
      " [0. 0. 0. 0. 0.]\n",
      " [0. 0. 0. 0. 0.]]\n",
      "[[0. 0. 0. 0. 0.]\n",
      " [0. 0. 0. 0. 0.]\n",
      " [0. 0. 0. 0. 0.]\n",
      " [0. 0. 0. 0. 0.]]\n",
      "[[0. 0. 0. 0.]\n",
      " [0. 1. 0. 0.]\n",
      " [0. 2. 0. 0.]\n",
      " [0. 3. 0. 0.]\n",
      " [0. 4. 0. 0.]]\n"
     ]
    }
   ],
   "source": [
    "print(y.ndim)  #Number of dimensions\n",
    "print(y.shape) #Size of the dimensions\n",
    "print(y.size)  #Total number of elements in the arraydimensions\n",
    "print(y.dtype) #Data type of the elements\n",
    "print(y.real)  #The real part of the array\n",
    "print(y.imag)  #The imaginary part of the array\n",
    "print(y.T)     #The array transposed"
   ]
  },
  {
   "cell_type": "markdown",
   "metadata": {},
   "source": [
    "#### Importing and manipulating data ####"
   ]
  },
  {
   "cell_type": "markdown",
   "metadata": {},
   "source": [
    "Lets import some data from a file. The file named 'ExampleiOLabData.csv' contains some iOLab data. These files have descriptions of what each column represents on the first row. We want to read the actual data. Using the function np.loadtxt we load in the data from the csv file, storing the entries as floats, interpreting commas as seperators between the values and skipping the first row."
   ]
  },
  {
   "cell_type": "code",
   "execution_count": 22,
   "metadata": {},
   "outputs": [],
   "source": [
    "file   = 'ExampleiOLabData.csv'\n",
    "data   = np.loadtxt(file,dtype = np.dtype(float), delimiter = ',',skiprows = 1)"
   ]
  },
  {
   "cell_type": "markdown",
   "metadata": {},
   "source": [
    "We can easily compute some properties of the data in the sixth column using some NumPy functions."
   ]
  },
  {
   "cell_type": "code",
   "execution_count": 24,
   "metadata": {},
   "outputs": [
    {
     "name": "stdout",
     "output_type": "stream",
     "text": [
      "-0.40871283251457785\n",
      "2.185772857970599\n",
      "4.777602986640961\n",
      "-9.26978\n",
      "4.54985\n"
     ]
    }
   ],
   "source": [
    "print(np.mean(data[:,5])) # the mean\n",
    "print(np.std(data[:,5])) # the standard deviation\n",
    "print(np.var(data[:,5])) # the variance\n",
    "print(np.amin(data[:,5])) # the smallest value\n",
    "print(np.amax(data[:,5])) # the largest value"
   ]
  },
  {
   "cell_type": "markdown",
   "metadata": {},
   "source": [
    "# Matplotlib # <a class=\"anchor\" id=\"matplotlib\"></a>"
   ]
  },
  {
   "cell_type": "markdown",
   "metadata": {},
   "source": [
    "Matplotlib is a library of functions for plotting data. Very similar to plotting in Matlab. Documentation and tutorials can be found at https://matplotlib.org/tutorials/index.html."
   ]
  },
  {
   "cell_type": "code",
   "execution_count": 26,
   "metadata": {},
   "outputs": [],
   "source": [
    "import matplotlib.pyplot as plt"
   ]
  },
  {
   "cell_type": "code",
   "execution_count": 27,
   "metadata": {},
   "outputs": [
    {
     "data": {
      "image/png": "[encoded data removed]",
      "text/plain": [
       "<Figure size 1080x360 with 3 Axes>"
      ]
     },
     "metadata": {
      "needs_background": "light"
     },
     "output_type": "display_data"
    }
   ],
   "source": [
    "#A figure with three graphs of the iOLab data\n",
    "fig, axs = plt.subplots(1,3,figsize=(15, 5));  #Initializing the figure with one row and three columns of subplots and specifying the size.\n",
    "axs[0].plot(data[:,3],data[:,5],label = 'the blue curve'); # Plotting a graph in the first subplot and labeling it for the legend.\n",
    "axs[0].set_xlabel('time (s)', fontsize = 15);  # Setting the x-label of the first subplot\n",
    "axs[0].set_ylabel(r'$\\omega_x$ (rad/s)', fontsize = 15);\n",
    "axs[0].legend(loc = 'lower right', fontsize  = 12) # Making a legend for the first subplot and specifying the position.\n",
    "\n",
    "axs[1].plot(data[:,3],data[:,7], linestyle = 'dashed'); # Plotting a graph in the second subplot, with a different kind of connecting line.\n",
    "axs[1].set_xlabel('time (s)', fontsize = 15);\n",
    "axs[1].set_ylabel(r'$\\omega_y$ (rad/s)', fontsize = 15);\n",
    "axs[1].set_xscale('log') # Setting the x-scale to be logarithmic\n",
    "\n",
    "axs[2].plot(data[:,3],data[:,9], color='green', marker='.', linestyle='none', markersize=1); # Plotting a graph in the thirds subplot, with green dots instead of a line.\n",
    "axs[2].set_xlabel('time (s)', fontsize = 15);\n",
    "axs[2].set_ylabel(r'$\\omega_z$ (rad/s)', fontsize = 15);\n",
    "axs[2].set_xlim([-2.0,5.0]) # Setting the plotrange along the x-axis.\n",
    "axs[2].set_ylim([-3.0,3.0])\n",
    "axs[2].set_xticks([-2,0,2,4,5])  #setting custom x-ticks\n",
    "axs[2].set_xticklabels([-2,0,2,'IV',5])  #setting what to write on the ticks\n",
    "axs[2].grid() # Drawing a grid.\n",
    "\n",
    "plt.tight_layout() # Cleaning up the layout\n",
    "plt.savefig('Gyroscopeplot.pdf') #Saving the figure to a pdf file"
   ]
  },
  {
   "cell_type": "markdown",
   "metadata": {},
   "source": [
    "A plot of data with errorbars"
   ]
  },
  {
   "cell_type": "code",
   "execution_count": 28,
   "metadata": {},
   "outputs": [
    {
     "data": {
      "image/png": "[encoded data removed]",
      "text/plain": [
       "<Figure size 576x576 with 1 Axes>"
      ]
     },
     "metadata": {
      "needs_background": "light"
     },
     "output_type": "display_data"
    }
   ],
   "source": [
    "fig, axs = plt.subplots(1,1,figsize=(8, 8));\n",
    "\n",
    "axs.errorbar(np.arange(0,10),np.arange(0,10),0.5*np.ones(10),0.5*np.ones(10),linestyle='none',capsize = 4);\n",
    "#axs.errorbar(xdata,ydata,xerror,yerror,linestyle='none',capsize = 4);\n",
    "axs.set_xlabel('x', fontsize = 15);\n",
    "axs.set_ylabel(r'$(2-1) \\cdot x$', fontsize = 15);\n",
    "\n",
    "plt.tight_layout()"
   ]
  },
  {
   "cell_type": "markdown",
   "metadata": {},
   "source": [
    "Plotting a function"
   ]
  },
  {
   "cell_type": "code",
   "execution_count": 29,
   "metadata": {},
   "outputs": [
    {
     "data": {
      "image/png": "[encoded data removed]",
      "text/plain": [
       "<Figure size 576x576 with 1 Axes>"
      ]
     },
     "metadata": {
      "needs_background": "light"
     },
     "output_type": "display_data"
    }
   ],
   "source": [
    "#First create the x and y data.\n",
    "t = np.arange(0,10,0.01)\n",
    "cost = np.cos(t)\n",
    "\n",
    "fig, axs = plt.subplots(1,1,figsize=(8, 8));\n",
    "\n",
    "axs.plot(t,cost);\n",
    "#axs.errorbar(xdata,ydata,xerror,yerror,linestyle='none',capsize = 4);\n",
    "axs.set_xlabel('t', fontsize = 15);\n",
    "axs.set_ylabel(r'$\\cos t$', fontsize = 15);\n",
    "\n",
    "plt.tight_layout()"
   ]
  },
  {
   "cell_type": "markdown",
   "metadata": {},
   "source": [
    "# Physical constants and curve fitting with SciPy # <a class=\"anchor\" id=\"scipy\"></a>"
   ]
  },
  {
   "cell_type": "markdown",
   "metadata": {},
   "source": [
    "SciPy is a library of functions which build upon NumPy with more complicated procedures, such as curve fitting, statistics and integration. It also has some commonly used physical constants: https://docs.scipy.org/doc/scipy/reference/constants.html"
   ]
  },
  {
   "cell_type": "code",
   "execution_count": 30,
   "metadata": {},
   "outputs": [
    {
     "name": "stdout",
     "output_type": "stream",
     "text": [
      "299792458.0\n",
      "1.0545718176461565e-34\n",
      "9.80665\n",
      "1.602176634e-19\n",
      "6.02214076e+23\n",
      "1.380649e-23\n",
      "9.1093837015e-31\n",
      "1.602176634e-19\n"
     ]
    }
   ],
   "source": [
    "import scipy.constants as const\n",
    "print(const.c)\n",
    "print(const.hbar)\n",
    "print(const.g)\n",
    "print(const.e)\n",
    "print(const.Avogadro)\n",
    "print(const.k)\n",
    "print(const.m_e)\n",
    "print(const.e)"
   ]
  },
  {
   "cell_type": "code",
   "execution_count": 31,
   "metadata": {},
   "outputs": [],
   "source": [
    "from scipy.optimize import curve_fit"
   ]
  },
  {
   "cell_type": "code",
   "execution_count": 32,
   "metadata": {},
   "outputs": [],
   "source": [
    "xdata = [0.0,1.0,2.0,3.0]\n",
    "ydata = [0.0,0.8,2.2,3.1]\n",
    "ysigma = [0.1,0.2,0.1,0.2]\n",
    "\n",
    "InitialValues = [1,0]\n",
    "\n",
    "OptimalValues, CovarianceMatrix = curve_fit(func,xdata,ydata,sigma = ysigma,p0 = InitialValues)"
   ]
  },
  {
   "cell_type": "code",
   "execution_count": 33,
   "metadata": {},
   "outputs": [
    {
     "name": "stdout",
     "output_type": "stream",
     "text": [
      "[ 1.07413793 -0.01896552]\n",
      "[0.00419144 0.01089774]\n"
     ]
    }
   ],
   "source": [
    "print(OptimalValues)\n",
    "print(np.diag(CovarianceMatrix))"
   ]
  },
  {
   "cell_type": "code",
   "execution_count": 34,
   "metadata": {},
   "outputs": [
    {
     "data": {
      "image/png": "[encoded data removed]",
      "text/plain": [
       "<Figure size 576x576 with 1 Axes>"
      ]
     },
     "metadata": {
      "needs_background": "light"
     },
     "output_type": "display_data"
    }
   ],
   "source": [
    "#Plot data with errorbars and a fitted curve.\n",
    "fig, axs = plt.subplots(1,1,figsize=(8, 8));\n",
    "\n",
    "axs.errorbar(xdata,ydata,yerr = ysigma*np.ones(4),linestyle='none',capsize = 4, label = 'data');\n",
    "axs.plot(np.arange(0.0,4.0,1.0),func(np.arange(0.0,4.0,1.0),*OptimalValues), label = 'fit');\n",
    "#axs.errorbar(xdata,ydata,xerror,yerror,linestyle='none',capsize = 4);\n",
    "axs.set_xlabel('x', fontsize = 15);\n",
    "axs.set_ylabel('y', fontsize = 15);\n",
    "\n",
    "axs.legend(loc = 'lower right',fontsize=20)\n",
    "plt.tight_layout()"
   ]
  },
  {
   "cell_type": "code",
   "execution_count": null,
   "metadata": {},
   "outputs": [],
   "source": []
  }
 ],
 "metadata": {
  "kernelspec": {
   "display_name": "Python 3",
   "language": "python",
   "name": "python3"
  },
  "language_info": {
   "codemirror_mode": {
    "name": "ipython",
    "version": 3
   },
   "file_extension": ".py",
   "mimetype": "text/x-python",
   "name": "python",
   "nbconvert_exporter": "python",
   "pygments_lexer": "ipython3",
   "version": "3.7.3"
  }
 },
 "nbformat": 4,
 "nbformat_minor": 4
}
